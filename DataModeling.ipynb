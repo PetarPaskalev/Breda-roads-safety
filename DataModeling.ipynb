{
 "cells": [
  {
   "cell_type": "code",
   "execution_count": 2,
   "id": "27f93fce-c7cf-427d-be66-ab4a4dc953a3",
   "metadata": {},
   "outputs": [],
   "source": [
    "import psycopg2\n",
    "import pandas as pd\n",
    "from sklearn.model_selection import train_test_split\n",
    "from sklearn.ensemble import RandomForestClassifier\n",
    "from sklearn.linear_model import LogisticRegression\n",
    "from sklearn.svm import SVC\n",
    "from sklearn.neighbors import KNeighborsClassifier\n",
    "from sklearn.metrics import accuracy_score, precision_score, recall_score, f1_score, confusion_matrix"
   ]
  },
  {
   "cell_type": "markdown",
   "id": "9a0f032b-10f9-4087-84e5-2479f679f34b",
   "metadata": {},
   "source": [
    "# Connection"
   ]
  },
  {
   "cell_type": "code",
   "execution_count": 3,
   "id": "440c47e7-3764-4309-b7fe-0191c4e143d3",
   "metadata": {},
   "outputs": [],
   "source": [
    "# Database connection parameters\n",
    "db_params = {\n",
    "    'host': '194.171.191.226',\n",
    "    'port': '6379',\n",
    "    'database': 'postgres',\n",
    "    'user': 'group12',\n",
    "    'password': 'blockd_2024group12_55'\n",
    "}\n",
    "\n",
    "# Function to establish a database connection\n",
    "def get_db_connection(db_params):\n",
    "    try:\n",
    "        conn = psycopg2.connect(\n",
    "            host=db_params['host'],\n",
    "            port=db_params['port'],\n",
    "            database=db_params['database'],\n",
    "            user=db_params['user'],\n",
    "            password=db_params['password']\n",
    "        )\n",
    "        return conn\n",
    "    except psycopg2.DatabaseError as e:\n",
    "        print(f\"Error: {e}\")\n",
    "        return None\n",
    "\n",
    "# Function to retrieve data from a specific table\n",
    "def get_table_data(db_params, table_name):\n",
    "    conn = get_db_connection(db_params)\n",
    "    if conn is None:\n",
    "        return None\n",
    "    \n",
    "    try:\n",
    "        query = f\"SELECT * FROM {table_name};\"\n",
    "        df = pd.read_sql_query(query, conn)\n",
    "        return df\n",
    "    except Exception as e:\n",
    "        print(f\"Error: {e}\")\n",
    "        return None\n",
    "    finally:\n",
    "        conn.close()"
   ]
  },
  {
   "cell_type": "markdown",
   "id": "45d9843b-0552-495c-8f38-6dccd884cbae",
   "metadata": {},
   "source": [
    "# Importing the Preproccessed table"
   ]
  },
  {
   "cell_type": "code",
   "execution_count": 4,
   "id": "a8ade4da-e06c-4473-a1da-b95f60f37391",
   "metadata": {},
   "outputs": [],
   "source": [
    "# Function to retrieve data from a specific table\n",
    "def get_table_data(db_params, table_name):\n",
    "    conn = get_db_connection(db_params)\n",
    "    if conn is None:\n",
    "        return None\n",
    "    \n",
    "    try:\n",
    "        query = f\"SELECT * FROM {table_name};\"\n",
    "        df = pd.read_sql_query(query, conn)\n",
    "        return df\n",
    "    except Exception as e:\n",
    "        print(f\"Error: {e}\")\n",
    "        return None\n",
    "    finally:\n",
    "        conn.close()"
   ]
  },
  {
   "cell_type": "code",
   "execution_count": 5,
   "id": "104abb35-5275-43ce-a550-ef46cf60cbd3",
   "metadata": {},
   "outputs": [
    {
     "name": "stdout",
     "output_type": "stream",
     "text": [
      "  Accident severity First Mode of Transport           Area Type  \\\n",
      "0               2.0      -0.350029334776985  0.3316993365651348   \n",
      "1               1.0      -0.350029334776985  0.3316993365651348   \n",
      "2               2.0      -0.350029334776985  0.3316993365651348   \n",
      "3               2.0       2.571554974930851   -3.01477841455867   \n",
      "4               2.0      -0.350029334776985  0.3316993365651348   \n",
      "\n",
      "      Light condition        Road Location       Road condition  \\\n",
      "0  0.6027962867863099  -0.8738398047923384  -0.6608395121052414   \n",
      "1  0.6027962867863099   1.1443745117992685  -0.6608395121052414   \n",
      "2  0.6027962867863099   1.1443745117992685  -0.6608395121052414   \n",
      "3  0.6027962867863099  -0.8738398047923384  -0.6608395121052414   \n",
      "4  0.6027962867863099  -0.8738398047923384  -0.6608395121052414   \n",
      "\n",
      "          Road surface        Road situation          Speed limit  \\\n",
      "0  -0.7354366365307541  -0.42384880344171616  -0.1099889661941095   \n",
      "1  -0.7354366365307541    1.0394771034977446  -0.1099889661941095   \n",
      "2  -0.7354366365307541   -1.8871747103811767  -0.1099889661941095   \n",
      "3  -0.7354366365307541  -0.42384880344171616  -0.1099889661941095   \n",
      "4    1.784021822931772  -0.42384880344171616  -0.1099889661941095   \n",
      "\n",
      "               weather accidents      avg_longitude        avg_latitude  \n",
      "0  -0.4134795820536239       1.0  4.732075503705787   51.58050315417642  \n",
      "1  -0.4134795820536239       1.0  4.754652183619659   51.57700146840848  \n",
      "2  -0.4134795820536239       1.0  4.815907149550971   51.58711990186194  \n",
      "3  -0.4134795820536239       1.0  4.750145299976339   51.60789894487762  \n",
      "4  -0.4134795820536239       1.0  4.765561273223476  51.590071305296476  \n",
      "  Accident severity First Mode of Transport           Area Type  \\\n",
      "0               2.0      -0.350029334776985  0.3316993365651348   \n",
      "1               2.0      -0.350029334776985  0.3316993365651348   \n",
      "2               1.0      -0.350029334776985  0.3316993365651348   \n",
      "3               2.0      -0.350029334776985   -3.01477841455867   \n",
      "4               2.0      -0.350029334776985  0.3316993365651348   \n",
      "\n",
      "      Light condition        Road Location       Road condition  \\\n",
      "0  0.6027962867863099   1.1443745117992685  -0.6608395121052414   \n",
      "1  0.6027962867863099  -0.8738398047923384  -0.6608395121052414   \n",
      "2  -1.658935235535878  -0.8738398047923384    1.513226708878669   \n",
      "3  -1.658935235535878   1.1443745117992685    1.513226708878669   \n",
      "4  0.6027962867863099   1.1443745117992685  -0.6608395121052414   \n",
      "\n",
      "          Road surface        Road situation          Speed limit  \\\n",
      "0  -0.7354366365307541   -1.8871747103811767   1.9706356443111297   \n",
      "1  -0.7354366365307541  -0.42384880344171616  -0.1099889661941095   \n",
      "2  0.10438284995675458  -0.42384880344171616  -0.1099889661941095   \n",
      "3  -0.7354366365307541   -1.8871747103811767   1.9706356443111297   \n",
      "4    1.784021822931772    1.0394771034977446  -0.1099889661941095   \n",
      "\n",
      "               weather accidents      avg_longitude        avg_latitude  \n",
      "0  -0.4134795820536239       1.0  4.825519067462543  51.593322118681705  \n",
      "1  -0.4134795820536239       1.0  4.745777783043888   51.62279749937378  \n",
      "2   2.4184991070981363       1.0  4.781841059351219  51.575301309461544  \n",
      "3   2.4184991070981363       1.0  4.735870517806607   51.60179951753548  \n",
      "4  -0.4134795820536239       1.0  4.754905564166104   51.59356679160258  \n",
      "  Accident severity First Mode of Transport           Area Type  \\\n",
      "0               2.0      -0.350029334776985  0.3316993365651348   \n",
      "1               1.0      -1.810821489630903  0.3316993365651348   \n",
      "2               2.0      -0.350029334776985   -3.01477841455867   \n",
      "3               2.0      -0.350029334776985  0.3316993365651348   \n",
      "4               1.0     0.38036674264997405  0.3316993365651348   \n",
      "\n",
      "      Light condition        Road Location       Road condition  \\\n",
      "0  0.6027962867863099  -0.8738398047923384  -0.6608395121052414   \n",
      "1  0.6027962867863099   1.1443745117992685  -0.6608395121052414   \n",
      "2  -1.658935235535878   1.1443745117992685    1.513226708878669   \n",
      "3  0.6027962867863099   1.1443745117992685  -0.6608395121052414   \n",
      "4  0.6027962867863099   1.1443745117992685  -0.6608395121052414   \n",
      "\n",
      "          Road surface        Road situation          Speed limit  \\\n",
      "0  -0.7354366365307541  -0.42384880344171616  -0.1099889661941095   \n",
      "1  0.10438284995675458    1.0394771034977446  -1.1503012714467291   \n",
      "2  -0.7354366365307541    1.0394771034977446   3.0109479495637492   \n",
      "3  0.10438284995675458    1.0394771034977446  -1.1503012714467291   \n",
      "4  -0.7354366365307541    1.0394771034977446  -0.1099889661941095   \n",
      "\n",
      "               weather accidents       avg_longitude        avg_latitude  \n",
      "0  -0.4134795820536239       1.0   4.796841543061393     51.607554376693  \n",
      "1  -0.4134795820536239       1.0   4.772360141460712   51.59746375450721  \n",
      "2   2.4184991070981363       1.0  4.6746171373785215   51.60860335510231  \n",
      "3  -0.4134795820536239       1.0   4.751363251508619   51.58428452795396  \n",
      "4  -0.4134795820536239       1.0   4.765561273223476  51.590071305296476  \n"
     ]
    },
    {
     "name": "stderr",
     "output_type": "stream",
     "text": [
      "/tmp/ipykernel_34319/1785455050.py:9: UserWarning: pandas only supports SQLAlchemy connectable (engine/connection) or database string URI or sqlite3 DBAPI2 connection. Other DBAPI2 objects are not tested. Please consider using SQLAlchemy.\n",
      "  df = pd.read_sql_query(query, conn)\n"
     ]
    }
   ],
   "source": [
    "# Load the training, testing, and validation datasets from the database\n",
    "train_table_name = 'group12_warehouse.train_table'\n",
    "test_table_name = 'group12_warehouse.test_table'\n",
    "validation_table_name = 'group12_warehouse.validation_table'\n",
    "\n",
    "train_data = get_table_data(db_params, train_table_name)\n",
    "test_data = get_table_data(db_params, test_table_name)\n",
    "validation_data = get_table_data(db_params, validation_table_name)\n",
    "\n",
    "if train_data is not None and test_data is not None and validation_data is not None:\n",
    "    print(train_data.head())\n",
    "    print(test_data.head())\n",
    "    print(validation_data.head())\n",
    "else:\n",
    "    print(\"Failed to retrieve data from one or more tables.\")"
   ]
  },
  {
   "cell_type": "markdown",
   "id": "c0cb9a38-600a-4333-96c6-d7881a38fdb2",
   "metadata": {},
   "source": [
    "# Model's "
   ]
  },
  {
   "cell_type": "markdown",
   "id": "dc7364d0-05d2-49f9-94f8-0f0435dde552",
   "metadata": {},
   "source": [
    "# Evaluate Model's"
   ]
  }
 ],
 "metadata": {
  "kernelspec": {
   "display_name": "Python 3 (ipykernel)",
   "language": "python",
   "name": "python3"
  },
  "language_info": {
   "codemirror_mode": {
    "name": "ipython",
    "version": 3
   },
   "file_extension": ".py",
   "mimetype": "text/x-python",
   "name": "python",
   "nbconvert_exporter": "python",
   "pygments_lexer": "ipython3",
   "version": "3.10.12"
  }
 },
 "nbformat": 4,
 "nbformat_minor": 5
}
