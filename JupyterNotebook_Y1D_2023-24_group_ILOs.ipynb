{
 "cells": [
  {
   "cell_type": "markdown",
   "id": "eef78e6e",
   "metadata": {},
   "source": [
    "# Jupyter Notebook Template for Block 1D"
   ]
  },
  {
   "cell_type": "markdown",
   "id": "a3533a4e",
   "metadata": {},
   "source": [
    "Please insert your name and the team number in the following cell:"
   ]
  },
  {
   "cell_type": "markdown",
   "id": "539d4f3f",
   "metadata": {},
   "source": [
    "#### Student Name: The group work\n",
    "#### Team No.: 12"
   ]
  },
  {
   "cell_type": "markdown",
   "id": "36aa276e",
   "metadata": {},
   "source": [
    "This template is meant to help you provide the related evidence for ILOs 3.0 to 7.0 of block 1D-2023-2024. Please don't change the order of the cells. You can still add as many cells as you want in the designated place to provide evidence for each ILO. To remind you about the criteria of each ILO, the criteria for each ILO are provided in each section. We hope that you find immense enjoyment and fulfillment as you embark on your project journey."
   ]
  },
  {
   "cell_type": "markdown",
   "id": "1cd9ef6e",
   "metadata": {},
   "source": [
    "## ILO 3.0: Legal Framework\n",
    "\n",
    "The student demonstrates knowledge of relevant legal frameworks by providing evidence of legal decision-making while working with data.\n",
    "\n",
    "Demonstrates the basic knowledge of european legal frameworks governing AI by providing evidence of legal decision-making while working with (privacy-sensitive) data:\n",
    "\n",
    "- **Poor**: The individual contribution to the project is merely documented, rather than reflected upon. There is no mention of releveant legal frameworks and the group assessment is hardly mentioned.\n",
    "\n",
    "- **Insufficient**: The student is able to individually identify the level of risk associated with their AI system and explain it clearly.  The group collaboratively identifies the level of risk associated with the developed AI system. The explanation is superficial and meeting all criteria in poor.\n",
    "\n",
    "- **Sufficient**: The individual reflection on the legality of the individual contributions made to the project is thorough. The group legal assessment of the project is based on relevant  frameworks provided during the module. The legal requirements and obligations that are vital to address for the development of  AI system are identified. The legal requirements and obligations that don’t need to be addressed for the development of AI system are identified. And meeting all criteria in insufficient.\n",
    "\n",
    "- **Good**: The relevance of legal requirements and obligations included in the group assessment for this project is explained. The reasoning for not including certain legal requirements and obligations in the assessment is justified. Argumentation for including and excluding legal requirements and obligations for the assessment is based on important facts, details, examples, and explanations from multiple authoritative sources and data. And meeting all criteria in sufficient.\n",
    "\n",
    "- **Excellent**: The student provides evidence and explanations of legal decision-making for obligations within the group assessment (where possible). And meeting all criteria in good.\n"
   ]
  },
  {
   "cell_type": "markdown",
   "id": "cb42b382",
   "metadata": {},
   "source": [
    "### Task 3.4 - Legal assessment (Group Task 1)\n",
    "\n",
    "For the group assignment, the team is expected to identify and explain the level of risk associated with the developed AI system. \n",
    "\n",
    "This evidence is related to **insufficient** criterion. "
   ]
  },
  {
   "cell_type": "markdown",
   "id": "7ad5a911",
   "metadata": {},
   "source": [
    "Task 3.4 Legal assessment \n",
    "\n",
    "Group Legal Assessment: Evaluating the Risk Level of the AI-Enabled Accident Prediction System  \n",
    "\n",
    "During our team deliberations, we thoroughly assessed the impact and implications of our AI system, which is designed to predict accidents and integrate these predictions into Google Maps. The discussion was focused on the system's potential effects on public safety and concerns related to data privacy.  \n",
    "\n",
    " \n",
    "\n",
    "Identified Risk Level: High  \n",
    "\n",
    "After careful consideration, our group agreed that the system should be classified as \"High Risk\" under the EU AI Act. This classification is supported by several critical factors: \n",
    "\n",
    " \n",
    "\n",
    "- Safety Concerns: The core functionality of our system is to predict accidents, directly influencing the safety of users. Any errors or inaccuracies in prediction could lead to dangerous situations, justifying its high-risk classification.  \n",
    "\n",
    "- Data Sensitivity: The system uses a significant amount of personal and environmental data. Compliance with stringent data protection laws like GDPR is essential to protect user privacy and maintain data security.  \n",
    "\n",
    "- Risk of Negative Outcomes: Misleading predictions could potentially lead users into hazardous conditions, increasing the risk of accidents. There's also the concern that excessive reliance on the system could diminish users' personal alertness. \n",
    "\n",
    "Reasons for High-Risk Classification  \n",
    "\n",
    "- Impact on Decision-Making: The system's predictions are used by drivers and traffic authorities to make crucial safety decisions. The accuracy of these predictions is vital due to the severe consequences of incorrect information.  \n",
    "\n",
    "- Data Handling Requirements: Given the extensive data the system processes, robust protections are necessary to prevent data breaches and ensure user data is handled responsibly.  \n",
    "\n",
    "- System Transparency and Reliability: High-risk AI systems are legally required to operate transparently and reliably. Users need clear information on how the system works, how it uses data, and its prediction limitations. \n",
    "\n",
    " \n",
    "\n",
    "Group Strategies for Risk Management \n",
    "\n",
    "Moving forward, our group agreed on several key actions to manage these risks: \n",
    "\n",
    "- Ongoing System Reviews: Regularly update the system and check its accuracy to ensure reliability and reduce prediction errors.  \n",
    "\n",
    "- Adherence to Legal Standards: Set up procedures for frequent compliance checks to continuously align with the EU AI Act and GDPR.  \n",
    "\n",
    "- Clear User Guidelines: Produce detailed user guides to help users understand the system’s functionality and emphasize the importance of maintaining situational awareness despite technological assistance."
   ]
  },
  {
   "cell_type": "markdown",
   "id": "d88d8535",
   "metadata": {},
   "source": [
    "# Make sure to include it to your final presentation.\n",
    "https://edubuas-my.sharepoint.com/:p:/g/personal/230306_buas_nl/EbRhTsS8yBlErrNCYLsrw5sBeUybd-nytZH53FUY5t1LLg?e=039sK8 "
   ]
  },
  {
   "cell_type": "markdown",
   "id": "6bd7b91b",
   "metadata": {},
   "source": [
    "### Task 3.5 - Legal requirements and obligations (Group Task 2)\n",
    "\n",
    "Identify and mention the legal requirements and obligations vital for addressing in the development of an AI system. Also, identify and mention the legal requirements and obligations that are not necessary to address in the development of an AI system. The legal assessment should be conducted in accordance with the AI Act.\n",
    "\n",
    "This evidence is related to **sufficient** criterion. "
   ]
  },
  {
   "cell_type": "markdown",
   "id": "74cf19aa",
   "metadata": {},
   "source": [
    "Group Legal Assessment: Essential and Non-Essential Legal Requirements for AI System Development \n",
    "\n",
    " \n",
    "\n",
    "In aligning with the EU AI Act, our group identified several legal requirements and obligations crucial for the development of our AI-based accident prediction system. These are important for ensuring the system's safety, reliability, and compliance: \n",
    "\n",
    " \n",
    "\n",
    "Essential Legal Requirements and Obligations \n",
    "\n",
    " \n",
    "\n",
    "- Data Accuracy and Integrity (Article 10): \n",
    "\n",
    "Requirement: Ensuring that the data used for training and operating the AI is accurate, relevant, and representative. \n",
    "\n",
    "Obligation: Regularly validate and update the data sources to avoid biases and ensure the predictions are based on the most current and comprehensive data available.  \n",
    "\n",
    "- Documentation and Record-keeping (Article 12):  \n",
    "\n",
    "Requirement: Keeping detailed records of the system’s development processes, including data handling, testing methodologies, and decision-making process.  \n",
    "\n",
    "Obligation: Ensure that all documentation is readily available for auditing and compliance checks, supporting transparency and accountability.  \n",
    "\n",
    " \n",
    "\n",
    "- Transparency and Information Provision (Article 13):  \n",
    "\n",
    "Requirement: Maintaining transparency about the AI system’s functionalities, decision-making processes, and prediction methods.  \n",
    "\n",
    "Obligation: Provide clear, accessible explanations to users about how the system uses data and the limitations of its predictions. \n",
    "\n",
    " \n",
    "\n",
    "Non-Essential Legal Requirements and Obligations  \n",
    "\n",
    " \n",
    "\n",
    "Certain legal requirements, typically applicable to other AI systems, have been deemed non-essential for our project due to the specific nature of our system:  \n",
    "\n",
    "- Biometric Identification: \n",
    "\n",
    "Non-Essential: Our system does not involve processing biometric data, which is more relevant to applications focused on security or personal verification.  \n",
    "\n",
    "- Emotional Recognition:  \n",
    "\n",
    "Non-Essential: Since our system does not deal with analyzing or predicting emotions, the requirements for emotional recognition systems are not applicable.  \n",
    "\n",
    "- Social Scoring: \n",
    "\n",
    "Non-Essential: Our system is not designed to assess or influence the social standing or legal rights of individuals, making social scoring regulations irrelevant. \n",
    "\n",
    " \n",
    "\n",
    "Strategic Implementation and Compliance \n",
    "\n",
    " \n",
    "\n",
    "Each team member has contributed to the identification of these requirements by exploring various components of the AI Act relevant to our accident prediction system. We are committed to implementing these essential requirements through thorough development practices, including consistent testing for accuracy, comprehensive documentation, ensuring transparency, and maintaining human oversight.  \n",
    "\n",
    "Our strategy maximizes resource allocation and improves the system's reliability and trustworthiness without being weighed down by unnecessary legal requirements by choosing to concentrate on the most relevant legal requirements. \n",
    "\n",
    " \n",
    "\n",
    "Resources  \n",
    "\n",
    " \n",
    "\n",
    "Article 10: Data and data governance. EU Artificial Intelligence Act. (n.d.-a). https://artificialintelligenceact.eu/article/10 \n",
    "\n",
    " \n",
    "\n",
    "Article 12: Record-keeping. EU Artificial Intelligence Act. (n.d.-b). https://artificialintelligenceact.eu/article/12/  \n",
    "\n",
    " \n",
    "\n",
    "Article 13: Transparency and provision of information to deployers. EU Artificial Intelligence Act. (n.d.b).https://artificialintelligenceact.eu/article/13/  \n",
    "\n",
    " \n",
    "\n",
    "The AI act explorer. EU Artificial Intelligence Act. (n.d.-g). https://artificialintelligenceact.eu/ai-act-explorer/ "
   ]
  },
  {
   "cell_type": "markdown",
   "id": "aa147373",
   "metadata": {},
   "source": [
    "### Task 3.6 - Relevance of legal requirements and obligations (Group Task 3)\n",
    "\n",
    "The group must explain the relevance of legal requirements and obligations included in the group assessment of the project. Ensure to provide reasoning and arguments for both including and excluding specific legal requirements and obligations in the assessment. The reasoning should be supported by facts, details, and examples drawn from multiple sources to substantiate your claims.\n",
    "\n",
    "If you are developing an AI system that has no or minimal risks, you need to explain the exclusion of each legal requirement and obligation one by one. Provide an explanation and reasoning for why each factor is not applicable to your AI system. \n",
    "\n",
    "This evidence is related to **good** criterion. "
   ]
  },
  {
   "cell_type": "markdown",
   "id": "82f73f41",
   "metadata": {},
   "source": [
    "Group Legal Assessment: Relevance of Legal Requirements and Obligations in AI System Development \n",
    "\n",
    " \n",
    "\n",
    "Our group undertook a comprehensive legal assessment to determine the relevance of specific legal requirements and obligations in developing our AI-based accident prediction system. This evaluation was guided by the EU AI Act, ensuring our system's development aligns with necessary legal standards while also identifying any non-essential legal requirements. Here's how we've justified the inclusion of these important legal requirements: \n",
    "\n",
    " \n",
    "\n",
    "Essential Legal Requirements and Justifications \n",
    "\n",
    "  \n",
    "\n",
    "- Data Accuracy and Integrity (Article 10) \n",
    "\n",
    "Requirement: Ensuring the AI uses accurate, relevant, and representative data. \n",
    "\n",
    "Justification: Accurate data is crucial for the reliability of accident predictions, directly impacting public safety. Poor data quality could lead to incorrect predictions, posing significant risks. The importance of data integrity in AI-driven traffic management systems is well-documented in the literature, such as in Almukhalfi, Noor, and Noor's work on traffic management using machine learning and deep learning techniques (Almukhalfi, Noor, & Noor, 2024). \n",
    "\n",
    "  \n",
    "\n",
    "- Documentation and Record-keeping (Article 12) \n",
    "\n",
    "Requirement: Maintain detailed records of the AI system’s development, including data handling and testing methodologies. \n",
    "\n",
    "Justification: Thorough documentation ensures traceability and facilitates compliance checks, crucial for maintaining transparency and accountability in systems that affect public safety. The need for specific AI documentation practices is highlighted by Königstorfer and Thalmann, emphasizing the challenges in documenting AI due to its complex and often unclear nature (Königstorfer & Thalmann, 2022). \n",
    "\n",
    "  \n",
    "\n",
    "- Transparency and Information Provision (Article 13) \n",
    "\n",
    "Requirement: Maintain transparency about the AI system’s functionalities and limitations. \n",
    "\n",
    "Justification: Transparent operations allow users to understand how predictions are made and to measure the reliability of the AI system, enhancing user trust and informed decision-making. The demand for transparency in AI applications and the reasoning behind it are further supported by the insights of Blackman and Ammanath (2022), who emphasize that transparency is crucial for building trust and facilitating accountability in AI deployments. \n",
    "\n",
    " \n",
    "\n",
    "Non-Essential Legal Requirements and Justifications \n",
    "\n",
    "  \n",
    "\n",
    "- Biometric Identification \n",
    "\n",
    "Non-Essential: Our system does not process biometric data, typically used in security or personal identification applications. \n",
    "\n",
    "Reasoning: Including this requirement would unnecessarily complicate the system without adding value to the accident prediction capabilities. \n",
    "\n",
    "  \n",
    "\n",
    "- Emotional Recognition \n",
    "\n",
    "Non-Essential: Since our system does not analyze or predict emotions, the regulations governing emotional recognition systems are irrelevant. \n",
    "\n",
    "Reasoning: Directing resources towards implementing emotional recognition capabilities would divert focus from critical aspects such as enhancing data accuracy and system reliability. \n",
    "\n",
    "  \n",
    "\n",
    "- Social Scoring \n",
    "\n",
    "Non-Essential: Our system does not engage in evaluating or influencing the social standing or legal rights of individuals. \n",
    "\n",
    "Reasoning: Social scoring regulations are intended to prevent discrimination and are not applicable to the functional scope of our accident predicting AI. \n",
    "\n",
    " \n",
    "\n",
    "Strategic Implementation and Compliance \n",
    "\n",
    "  \n",
    "\n",
    "Team members contributed by researching various aspects of the AI Act relevant to our system. We are committed to implementing essential legal requirements through rigorous development practices. These include consistent accuracy testing, comprehensive documentation, ensuring transparency, and maintaining human oversight. \n",
    "\n",
    "By focusing on the most relevant legal requirements, our strategy optimizes resource allocation, enhances the system's reliability, and ensures trustworthiness without being limited by unnecessary legal demands. \n",
    "\n",
    " \n",
    "\n",
    "Resources  \n",
    "\n",
    "  \n",
    "\n",
    "The AI act explorer. EU Artificial Intelligence Act. (n.d.-g). https://artificialintelligenceact.eu/ai-act-explorer/  \n",
    "\n",
    "  \n",
    "\n",
    "Almukhalfi, H., Noor, A., & Noor, T. H. (2024). Traffic management approaches using machine learning and deep learning techniques: A survey. Engineering Applications of Artificial Intelligence, 133(Part B), 108147. https://doi.org/10.1016/j.engappai.2024.108147 \n",
    "\n",
    "  \n",
    "\n",
    "Königstorfer, F., & Thalmann, S. (2022). AI Documentation: A path to accountability. Journal of Responsible Technology, 100043. https://www.sciencedirect.com/science/article/pii/S2666659622000208?via%3Dihub \n",
    "\n",
    "  \n",
    "\n",
    "Building transparency into AI projects. Harvard Business Review. (2022, June 20). https://hbr.org/2022/06/building-transparency-into-ai-projects#:~:text=There%20are%20four%20specific%20effects%20of%20building%20in,people.%20Transparency%20is%20not%20an%20all-or-nothing%20proposition%2C%20however. "
   ]
  },
  {
   "cell_type": "markdown",
   "id": "a0b09ef5",
   "metadata": {},
   "source": [
    "### Task 3.7 - Addressing legal obligations (Group Task 3)\n",
    "\n",
    "The group provides evidence and explanations of their AI system's compliance with legal requirements and obligations.\n",
    "\n",
    "If you are developing an AI system with no or minimal risks, ensure to write a paragraph explaining how your AI system complies with EU regulations (AI Act).\n",
    "\n",
    "This evidence is related to **excellent** criterion. "
   ]
  },
  {
   "cell_type": "markdown",
   "id": "68304d96",
   "metadata": {},
   "source": [
    "In the development of our AI-based accident prediction system, we have carefully aligned our processes with the EU Artificial Intelligence Act, particularly focusing on the strict requirements set forth for high-risk applications. Our system, designed to enhance road safety by predicting incidents, falls under this category due to its significant effects on public safety. \n",
    "\n",
    " \n",
    "\n",
    "Data Management and Compliance \n",
    "\n",
    "- GDPR Alignment: Our data collection processes are thoroughly designed to comply with the General Data Protection Regulation (GDPR), ensuring all personal data is handled with the highest levels of security and privacy. We adhere to strict guidelines that include removing passwords from all documentation and making sure that private information is not shared externally, protecting user data from unauthorized access and breaches. \n",
    "\n",
    " \n",
    "\n",
    "- Data Quality Assurance: Consistent with Article 10 of the AI Act, our system uses data that is accurate, up-to-date, and relevant, enhancing the reliability of our accident predictions and decision-making processes. \n",
    "\n",
    " \n",
    "\n",
    "Documentation and Transparency \n",
    "\n",
    "- Comprehensive Documentation: We maintain detailed documentation that covers every aspect of the AI system’s development, deployment, and operation phases, fulfilling the AI Act's demand for traceability and transparency. \n",
    "\n",
    " \n",
    "\n",
    "Ethical and Transparent AI Practices \n",
    "\n",
    "- User Information Transparency: We provide users with transparent information about the functioning of the AI system, the data it uses, and how it makes decisions, which is crucial for trust and accountability. \n",
    "\n",
    " \n",
    "\n",
    "Regular Monitoring and Ethical Oversight \n",
    "\n",
    "- Continuous Monitoring: Our system includes continuous monitoring mechanisms to check AI performance and accuracy, responding promptly to any deviations from expected performance standards. \n",
    "\n",
    " \n",
    "\n",
    "- Ethical Impact Reviews: To keep our operations compliant with legal requirements and social values, we conduct ethical impact assessments on a regular basis. These analyses assist in evaluating the larger implications of our AI system on individual rights and public safety. \n",
    "\n",
    " \n",
    "\n",
    "Legal Compliance and Incident Management \n",
    "\n",
    "- Legal Liability Clarity: We have clearly defined the legal liabilities associated with our AI system, ensuring all members understand their responsibilities and the legal context of their operations. \n",
    "\n",
    " \n",
    "\n",
    "Adherence to High-Risk AI System Regulations \n",
    "\n",
    "Compliance with High-Risk AI Framework: As a high-risk AI application, our system complies with all relevant provisions of Title III and Article 16 of the AI Act, which detail specific obligations for high-risk AI systems, ensuring our system's deployment is responsible and legally compliant. "
   ]
  },
  {
   "cell_type": "markdown",
   "id": "1c392bae",
   "metadata": {},
   "source": [
    "## ILO 4.0: Business Understanding\n",
    "\n",
    "The student is capable to develop a project proposal  and deliver an impactful presentation to communicate the business values, objectives, and outcomes. \t\n",
    "\n",
    "Demonstrate the ability to develop a compelling project proposal  and deliver an impactful presentation that effectively communicates the business value, objectives, and outcomes of the proposed project:\n",
    "\n",
    "- **Poor**: Clear individual contribution is documented. A project proposal, compliant with professional standards, is prepared and presented. \n",
    "\n",
    "- **Insufficient**: A final presentation, compliant with professional standards, is prepared and presented. And meeting all criteria in poor.\n",
    "\n",
    "- **Sufficient**: The students demonstrate a profound understanding of business needs and industry context by developing a project proposal that effectively identifies and addresses client requirements. The proposal includes a clear problem statement, define project objectives, and propose feasible solutions that demonstrate a good understanding of the business environment. And meeting all criteria in insufficient.\n",
    "\n",
    "- **Good**: The students showcase a strong understanding of the business context in the final project presentation, effectively communicating insights. The final presentation is  engaging, well-structured, and emphasizes the practical implications within the broader business context. And meeting all criteria in sufficient.\n",
    "\n",
    "- **Excellent**: The students have developed an innovative solution that not only aligns closely with the client's specific requirements but also possesses considerable business value. And meeting all criteria in good."
   ]
  },
  {
   "cell_type": "markdown",
   "id": "97a8b774",
   "metadata": {},
   "source": [
    "### Task 4.1 - Proposal\n",
    "\n",
    "Please provide the related link to your team proposal in the following cell. This evidence is related to **poor** and **sufficient** criteria."
   ]
  },
  {
   "cell_type": "markdown",
   "id": "86bc5282",
   "metadata": {},
   "source": [
    "# Put the link to your team proposal here\n",
    "https://edubuas-my.sharepoint.com/:w:/r/personal/231541_buas_nl/_layouts/15/Doc.aspx?sourcedoc=%7B2EC8FC5D-1026-47B0-B644-AC9F44C81757%7D&file=proposal.docx&action=default&mobileredirect=true"
   ]
  },
  {
   "cell_type": "markdown",
   "id": "8af64b9d",
   "metadata": {},
   "source": [
    "# Put the link to the proposal presentation file here\n",
    "https://edubuas-my.sharepoint.com/:p:/r/personal/231541_buas_nl/_layouts/15/Doc.aspx?sourcedoc=%7B7ED36A41-0533-4CDB-AE8A-0823CBC4FF08%7D&file=proposal_presentation.pptx&action=edit&mobileredirect=true"
   ]
  },
  {
   "cell_type": "markdown",
   "id": "6e615047",
   "metadata": {},
   "source": [
    "### Task 4.2 - Final Presentation\n",
    "\n",
    "Please provide the related link to your final presentation in the following cell. This evidence pertains to **insufficient**, **good**, and **excellent** criteria.If possible, please save your presentation file as a PDF and provide the corresponding link here."
   ]
  },
  {
   "cell_type": "markdown",
   "id": "cbbc1d23",
   "metadata": {},
   "source": [
    "# Put the link to the final presentation here\n",
    "https://edubuas-my.sharepoint.com/:p:/g/personal/230306_buas_nl/EbRhTsS8yBlErrNCYLsrw5sBeUybd-nytZH53FUY5t1LLg?e=039sK8"
   ]
  },
  {
   "cell_type": "markdown",
   "id": "507c0c04",
   "metadata": {},
   "source": [
    "## ILO 5.0: Data Understanding and Preparation\n",
    "\n",
    "The student is able to collect, combine, explore, and preprocess  data, while assessing data quality, and providing recommendations to improve the data management strategy.\t\n",
    "\n",
    "Shows understanding of the data and is able to preprocess a dataset which is suited for further modelling:\n",
    "\n",
    "- **Poor**: Clear individual contribution is documented. Demonstrates the ability to connect to a SQL database. \n",
    "\n",
    "- **Insufficient**: Demonstrates the ability to access data in a SQL database using a simple query and meeting all requirements in Poor.\n",
    "\n",
    "- **Sufficient**: Demonstrates the ability to access data stored in a SQL database from a scripting language such as Python, removes unnecessary columns, handles missing values, addresses any inconsistencies, errors, or outliers, standardizes formats, and encodes categorical variables appropriately, splits the dataset into training, validation, and test sets appropriately and meeting all criteria in insufficient.\n",
    "\n",
    "- **Good**: Demonstrates the ability to combine data stored in a SQL database using techniques such as a Join, normalize and standardize numerical features, extracts relevant features, or creates new features from date and time information (if applicable), creates new features from existing features to generate more informative ones (if applicable), and meeting all criteria in sufficient.\n",
    "\n",
    "- **Excellent**: Demonstrates advanced data modelling techniques by expanding out the data warehouse using techniques such as views, balance data considering techniques such as oversampling or undersampling to balance the class distribution (if applicable), normalizes the target variable if it has a skewed distribution, and saves the preprocessing steps and configuration used to be applied consistently to new data and meeting all criteria in good.\n"
   ]
  },
  {
   "cell_type": "markdown",
   "id": "24628cea",
   "metadata": {},
   "source": [
    "### Task 5.1 - Connecting to SQL database\n",
    "\n",
    "Please provide the necessary code to connect to SQL database in the following cell. This requirement relates to **poor** criterion.\n",
    "\n",
    "__Important!__ Do __NOT__ include usernames or passwords in plain text in your submission. \n",
    "You can replace them with Environment Variables, Placeholders, etc."
   ]
  },
  {
   "cell_type": "markdown",
   "id": "853863c6",
   "metadata": {},
   "source": [
    "[ILO 5.0 FILE IN THE TEAM REPO, TASK 5.1](https://github.com/BredaUniversityADSAI/2023-24d-fai1-adsai-teamwork-t12/blob/main/ILO_5.ipynb)"
   ]
  },
  {
   "cell_type": "markdown",
   "id": "5df7d182",
   "metadata": {},
   "source": [
    "### Task 5.2 - Accessing Data in Database\n",
    "\n",
    "Please provide the corresponding code for a simple query to access the data. This requirement is related to the **insufficient** criterion.\n",
    "\n",
    "__Important!__ Do __NOT__ include usernames or passwords in plain text in your submission. \n",
    "You can replace them with Environment Variables, Placeholders, etc. "
   ]
  },
  {
   "cell_type": "markdown",
   "id": "1469feb0",
   "metadata": {},
   "source": [
    "[ILO 5.0 FILE IN THE TEAM REPO, TASK 5.2](https://github.com/BredaUniversityADSAI/2023-24d-fai1-adsai-teamwork-t12/blob/main/ILO_5.ipynb)"
   ]
  },
  {
   "cell_type": "markdown",
   "id": "fffa7b67",
   "metadata": {},
   "source": [
    "### Task 5.3 - Pre-processing the Data\n",
    "\n",
    "Please provide the relevant code to perform preprocessing on the data. Refer to the related criterion for detailed instructions on the preprocessing steps. This criterion is associated with the **sufficient** criterion.\n",
    "\n",
    "__Important!__ Do __NOT__ include usernames or passwords in plain text in your submission. \n",
    "You can replace them with Environment Variables, Placeholders, etc."
   ]
  },
  {
   "cell_type": "markdown",
   "id": "c1d20aa5",
   "metadata": {},
   "source": [
    "[ILO 5.0 FILE IN THE TEAM REPO, TASK 5.3](https://github.com/BredaUniversityADSAI/2023-24d-fai1-adsai-teamwork-t12/blob/main/ILO_5.ipynb)"
   ]
  },
  {
   "cell_type": "markdown",
   "id": "d1525bc4",
   "metadata": {},
   "source": [
    "### Task 5.4 - Advanced Pre-processing of Data\n",
    "\n",
    "Please provide the relevant code for joining datasets and performing advanced data preprocessing. Refer to the **good** criterion explanation for a better understanding of the steps to consider for this criterion. This evidence corresponds to the **good** criterion.\n",
    "\n",
    "__Important!__ Do __NOT__ include usernames or passwords in plain text in your submission. \n",
    "You can replace them with Environment Variables, Placeholders, etc."
   ]
  },
  {
   "cell_type": "markdown",
   "id": "93ccc1be",
   "metadata": {},
   "source": [
    "[ILO 5.0 FILE IN THE TEAM REPO, TASK 5.4](https://github.com/BredaUniversityADSAI/2023-24d-fai1-adsai-teamwork-t12/blob/main/ILO_5.ipynb)"
   ]
  },
  {
   "cell_type": "markdown",
   "id": "cad74437",
   "metadata": {},
   "source": [
    "### Task 5.5 - Final Data Preparation\n",
    "\n",
    "Please provide evidence of the techniques used to balance the class distribution and normalize the target variable, if applicable. This corresponds to the first part of the **Excellent** criterion.  \n",
    "\n",
    "__Important!__ Do __NOT__ include usernames or passwords in plain text in your submission. \n",
    "You can replace them with Environment Variables, Placeholders, etc."
   ]
  },
  {
   "cell_type": "markdown",
   "id": "b06ab92c",
   "metadata": {},
   "source": [
    "[ILO 5.0 FILE IN THE TEAM REPO, TASK 5.5](https://github.com/BredaUniversityADSAI/2023-24d-fai1-adsai-teamwork-t12/blob/main/ILO_5.ipynb)"
   ]
  },
  {
   "cell_type": "markdown",
   "id": "e7961346",
   "metadata": {},
   "source": [
    "Please provide a link to a PDF file in the following cell. This PDF should explain all the preprocessing steps and configurations used to prepare the data before proceeding to the modeling phase of the project. In addition, the PDF should include a schema diagram of your data warehouse this corresponds with the **Excellent** criterion."
   ]
  },
  {
   "cell_type": "markdown",
   "id": "ad6541cb",
   "metadata": {},
   "source": [
    "[PDF FILE IN THE TEAM REPO EXPLAINING THE PREPROCESSING STEP](https://github.com/BredaUniversityADSAI/2023-24d-fai1-adsai-teamwork-t12/blob/main/Prepocising/Preprocessing_Journey.pdf)"
   ]
  },
  {
   "cell_type": "markdown",
   "id": "e6ee2e1b",
   "metadata": {},
   "source": [
    "## ILO 6.0: Modelling, Evaluation, and Iteration\n",
    "\n",
    "The student is able to select, implement and evaluate machine learning models, and improve their performance through iteration(s) to meet the business requirement. \t\n",
    "\n",
    "Demonstrates basic knowledge of modeling, evaluation, and iteration in developing both traditional and deep machine learning models, as well as understanding of the concept of the trade-off between model complexity and performance:\n",
    "\n",
    "- **Poor**: Clear individual contribution is documented. The student demonstrates the ability to  select a suitable machine learning algorithm based on the task's nature (e.g., classification, regression, time series prediction) and data characteristics. The student is able to  train a model using the chosen algorithm on the training dataset. \n",
    "\n",
    "- **Insufficient**: The student demonstrates the ability to evaluate a trained model's performance on a dataset, measuring its ability to generalize to new, unseen data. Additionally, the student exhibits the ability to select suitable evaluation metrics based on the type of task the model is designed for. And meeting all criteria in poor.\n",
    "\n",
    "- **Sufficient**: The student demonstrates the ability to iteratively refine and enhance the model's performance on a specific problem through a cycle involving training, evaluating results, and making adjustments. These adjustments encompass fine-tuning hyperparameters, modifying the model architecture, and improving data pre-processing steps. And meeting all criteria in insufficient. \n",
    "\n",
    "- **Good**: The student demonstrates the ability to select the appropriate machine learning algorithm, considering the trade-off between the desired model complexity and the required level of performance for a specific task. The students is able to compare at least two different relevant machine learning models for a specific task based on their final performance and complexity. And meeting all criteria in sufficient.\n",
    "\n",
    "- **Excellent**: The student demonstrates the capability to develop deep machine learning models, such as conducting time series forecasting using recurrent neural networks, implementing deep neural networks for classification or regression, training autoencoder neural networks for unsupervised learning or feature learning. And meeting all criteria in good.  "
   ]
  },
  {
   "cell_type": "markdown",
   "id": "ffe00359",
   "metadata": {},
   "source": [
    "### Task 6.1 - Modelling\n",
    "\n",
    "Please provide a link to a file in the following cell, which clarifies the individual contributions of all your team members. This is the first part of the evidences for the **poor** criterion. "
   ]
  },
  {
   "cell_type": "markdown",
   "id": "494f63eb",
   "metadata": {},
   "source": [
    "[Trello card on Modeling](https://trello.com/c/UliiE7rA/29-data-modeling)"
   ]
  },
  {
   "cell_type": "markdown",
   "id": "719c0497",
   "metadata": {},
   "source": [
    "Please provide the corresponding code for training the model based on your chosen algorithm. This is the second piece of evidence corresponding to the **poor** criterion."
   ]
  },
  {
   "cell_type": "markdown",
   "id": "04b4d3b3",
   "metadata": {},
   "source": [
    "We demonstrate the ability to select a suitable machine learning algorithm based on the task's nature (e.g., classification, regression, time series prediction) and data characteristics. We are able to train a model using the chosen algorithm on the training dataset."
   ]
  },
  {
   "cell_type": "markdown",
   "id": "e0ac491d",
   "metadata": {},
   "source": [
    "- [Neural Network notebook](https://github.com/BredaUniversityADSAI/2023-24d-fai1-adsai-teamwork-t12/blob/main/Models/NeuralNetwork.ipynb)\n",
    "  - This notebook demonstrates our ability to work with a neural network, showcasing our skill in selecting and implementing this algorithm for a given problem. It evidences our collective contribution in handling complex models suitable for tasks requiring deep learning.\n",
    "\n",
    "- [Decision Tree notebook](https://github.com/BredaUniversityADSAI/2023-24d-fai1-adsai-teamwork-t12/blob/main/Models/Decision-Tree-Model.ipynb)\n",
    "  - This notebook provides an example of our ability to choose and utilize a Decision Tree model. This model is often chosen for its simplicity and interpretability, indicating our capability to match the algorithm to the problem's needs.\n",
    "\n",
    "- [Gradient Boosting notebook](https://github.com/BredaUniversityADSAI/2023-24d-fai1-adsai-teamwork-t12/blob/main/Models/Gradient-boosting-Model.ipynb)\n",
    "  - This notebook highlights our proficiency with advanced ensemble methods like Gradient Boosting. It shows our understanding of boosting techniques to improve model performance, reflecting our skill in selecting sophisticated algorithms.\n",
    "\n",
    "- [Random Forest notebook](https://github.com/BredaUniversityADSAI/2023-24d-fai1-adsai-teamwork-t12/blob/main/Models/Random-Forest-Model.ipynb)\n",
    "  - This notebook evidences our ability to implement a Random Forest model. This algorithm is well-suited for various types of tasks, demonstrating our versatility and understanding of ensemble methods to achieve robust predictions.\n",
    "\n",
    "---\n",
    "\n",
    "*why we chose a classification problem for our project?*\n",
    " \n",
    "A classification model was chosen for our road safety prediction project because it effectively categorizes data into distinct classes, aligning perfectly with our need to classify road safety into levels of risk (low, moderate, and high). Unlike regression models that predict continuous values, classification models are specifically designed to assign observations to predefined categories based on input features. In the context of road safety prediction, historical data likely includes various features such as weather conditions, time of day, road type, and accident history. A classification model can analyze these features and classify new road instances into the appropriate risk category, providing actionable insights for users. Moreover, classification models such as decision trees, random forests, or support vector machines are interpretable, which is crucial for understanding the factors influencing each risk category and explaining predictions to end-users or stakeholders. By leveraging classification, our app can not only predict road safety levels but also empower users with informed decisions to navigate roads more safely based on historical data patterns."
   ]
  },
  {
   "cell_type": "markdown",
   "id": "6e8f937f",
   "metadata": {},
   "source": [
    "### Task 6.2 - Evaluation\n",
    "\n",
    "Please provide the related link for the evaluation of the trained model. This evidence relates to the **insufficient** criterion. "
   ]
  },
  {
   "cell_type": "markdown",
   "id": "2810bf0c",
   "metadata": {},
   "source": [
    "- [Neural Network notebook](https://github.com/BredaUniversityADSAI/2023-24d-fai1-adsai-teamwork-t12/blob/main/Models/NeuralNetwork.ipynb)\n",
    "  - This notebook shows our approach to evaluating a neural network's performance, including the metrics used to assess its generalization to unseen data. It highlights our understanding of appropriate evaluation techniques for deep learning models.\n",
    "\n",
    "- [Decision Tree notebook](https://github.com/BredaUniversityADSAI/2023-24d-fai1-adsai-teamwork-t12/blob/main/Models/Decision-Tree-Model.ipynb)\n",
    "  - This notebook details our evaluation of a Decision Tree model's performance, demonstrating our choice of metrics suited for this algorithm. It underscores our ability to interpret model performance and adjust accordingly.\n",
    "\n",
    "- [Gradient Boosting notebook](https://github.com/BredaUniversityADSAI/2023-24d-fai1-adsai-teamwork-t12/blob/main/Models/Gradient-boosting-Model.ipynb)\n",
    "  - This notebook highlights our proficiency with advanced ensemble methods like Gradient Boosting and our methods for evaluating its performance. It reflects our skill in using appropriate metrics to measure the effectiveness of boosting techniques.\n",
    "\n",
    "- [Random Forest notebook](https://github.com/BredaUniversityADSAI/2023-24d-fai1-adsai-teamwork-t12/blob/main/Models/Random-Forest-Model.ipynb)\n",
    "  - This notebook evidences our ability to evaluate a Random Forest model's performance, demonstrating our selection of relevant metrics to assess its accuracy and generalization capability. It shows our versatility and understanding of ensemble methods to achieve robust evaluations.\n",
    "  ---"
   ]
  },
  {
   "cell_type": "markdown",
   "id": "efe5ba41",
   "metadata": {},
   "source": [
    "### Task 6.3 - Iteration\n",
    "\n",
    "Please provide all the corresponding code for improving the model performance, taking into account the iterations. For more details on the types of iterations required, please refer to the explanation for the sufficient criterion. This evidence corresponds to the **sufficient** criterion."
   ]
  },
  {
   "cell_type": "markdown",
   "id": "260682a8",
   "metadata": {},
   "source": [
    "- [Neural Network notebook](https://github.com/BredaUniversityADSAI/2023-24d-fai1-adsai-teamwork-t12/blob/main/Models/NeuralNetwork.ipynb)\n",
    "  - This notebook illustrates our process of refining a neural network model. It includes examples of hyperparameter tuning, adjustments to the model architecture, and enhancements in data pre-processing steps, demonstrating our iterative approach to improving performance.\n",
    "\n",
    "- [Decision Tree notebook](https://github.com/BredaUniversityADSAI/2023-24d-fai1-adsai-teamwork-t12/blob/main/Models/Decision-Tree-Model.ipynb)\n",
    "  - This notebook shows our iterative efforts to enhance a Decision Tree model's performance. It details steps taken to fine-tune hyperparameters and adjust the model to achieve better accuracy, highlighting our capability to improve models iteratively.\n",
    "\n",
    "- [Gradient Boosting notebook](https://github.com/BredaUniversityADSAI/2023-24d-fai1-adsai-teamwork-t12/blob/main/Models/Gradient-boosting-Model.ipynb)\n",
    "  - This notebook demonstrates our iterative approach to optimizing a Gradient Boosting model. It includes various iterations of hyperparameter tuning and modifications, showing our dedication to refining model performance through continuous evaluation and adjustment.\n",
    "\n",
    "- [Random Forest notebook](https://github.com/BredaUniversityADSAI/2023-24d-fai1-adsai-teamwork-t12/blob/main/Models/Random-Forest-Model.ipynb)\n",
    "  - This notebook evidences our process of iteratively refining a Random Forest model. It highlights our steps in hyperparameter optimization, adjustments in model configuration, and improvements in data processing techniques, showcasing our iterative enhancement strategy.\n",
    "---"
   ]
  },
  {
   "cell_type": "markdown",
   "id": "ab97320c",
   "metadata": {},
   "source": [
    "### Task 6.4 - Model Comparison\n",
    "\n",
    "Please provide the related code for evaluating the model complexity and performance. Refer to the explanation for the **good** criterion. Note that you need to compare at least two different models based on performance and model complexity. This criterion corresponds to the **good** criterion."
   ]
  },
  {
   "cell_type": "markdown",
   "id": "d29f78b4",
   "metadata": {},
   "source": [
    "- [Neural Network notebook](https://github.com/BredaUniversityADSAI/2023-24d-fai1-adsai-teamwork-t12/blob/main/Models/NeuralNetwork.ipynb)\n",
    "  - This notebook illustrates our process of selecting and evaluating a neural network model, showing our considerations of model complexity and performance. It highlights our approach to balancing these factors for an effective solution.\n",
    "\n",
    "- [Decision Tree notebook](https://github.com/BredaUniversityADSAI/2023-24d-fai1-adsai-teamwork-t12/blob/main/Models/Decision-Tree-Model.ipynb)\n",
    "  - This notebook demonstrates our evaluation of a Decision Tree model, providing insights into its simplicity and interpretability compared to its performance. It shows our ability to choose and justify simpler models when appropriate.\n",
    "\n",
    "- [Gradient Boosting notebook](https://github.com/BredaUniversityADSAI/2023-24d-fai1-adsai-teamwork-t12/blob/main/Models/Gradient-boosting-Model.ipynb)\n",
    "  -  This notebook highlights our use of a Gradient Boosting model, showcasing the trade-offs we considered between model complexity and performance. It details our process of selecting advanced techniques to improve accuracy.\n",
    "\n",
    "- [Random Forest notebook](https://github.com/BredaUniversityADSAI/2023-24d-fai1-adsai-teamwork-t12/blob/main/Models/Random-Forest-Model.ipynb)\n",
    "  - This notebook evidences our implementation and tuning of a Random Forest model, showing our considerations for ensemble methods' complexity versus their robust performance. It highlights our comparative analysis and selection of the best-performing model.\n",
    "\n",
    "---\n",
    "Based on the classification reports provided for each model (Decision Tree, Gradient Boosting, Neural Network, and Random Forest), the best performing model appears to be the **Random Forest model**. Here’s why:\n",
    " \n",
    "1. **Overall Performance Metrics:**\n",
    "   - **Accuracy:** The Random Forest model achieves an accuracy of 93% on both the test and validation sets, which is higher than the other models.\n",
    "   - **Precision and Recall:** Across all classes (0.0, 1.0, 2.0), the Random Forest model consistently achieves high precision and recall scores, indicating balanced performance across different metrics.\n",
    " \n",
    "2. **F1-Score:**\n",
    "   - The Random Forest model shows strong F1-scores for each class on both test and validation sets, with values ranging from 0.89 to 0.99. This indicates good overall performance in terms of both precision and recall, balancing between false positives and false negatives.\n",
    " \n",
    "3. **Consistency between Test and Validation Sets:**\n",
    "   - The Random Forest model maintains consistent performance between the test and validation sets, suggesting robust generalization ability and less likelihood of overfitting.\n",
    " \n",
    "4. **Comparison with Other Models:**\n",
    "   - Compared to the other models:\n",
    "     - **Decision Tree:** Shows lower performance metrics across precision, recall, and F1-scores, indicating potential overfitting or lack of generalization.\n",
    "     - **Gradient Boosting:** Performs well but slightly lower than Random Forest in terms of precision and recall for some classes.\n",
    "     - **Neural Network:** While achieving decent accuracy, it shows lower precision, recall, and F1-scores compared to Random Forest, particularly for class 1.0 and 2.0.\n",
    "   \n",
    "5. **Weighted Average Metrics:**\n",
    "   - The Random Forest model consistently shows high weighted average precision, recall, and F1-score, which are important for imbalanced datasets or when considering the overall model performance across all classes.\n",
    " \n",
    "#### Therefore, based on the provided information and the metrics evaluated, the Random Forest model stands out as the best choice among the listed models due to its high accuracy, balanced precision and recall, robustness on both test and validation sets, and overall strong performance across all evaluation metrics.\n",
    "---"
   ]
  },
  {
   "cell_type": "markdown",
   "id": "9205bfb7",
   "metadata": {},
   "source": [
    "### Task 6.5 - Complex Machine Learning Model\n",
    "\n",
    "Please provide the corresponding code for the deep machine learning model. For more details, please refer to the **excellent** criterion. For this section, you need to use **Keras** to train a deep machine learning model. This evidence corresponds to the **excellent** criterion."
   ]
  },
  {
   "cell_type": "markdown",
   "id": "57308ade",
   "metadata": {},
   "source": [
    "- [Neural Network notebook](https://github.com/BredaUniversityADSAI/2023-24d-fai1-adsai-teamwork-t12/blob/main/Models/NeuralNetwork.ipynb)\n",
    "  - This notebook showcases our ability to implement and train deep neural networks for classification tasks. It includes examples of model architectures, training processes, and performance evaluations, demonstrating our proficiency in deep learning techniques.\n",
    "\n",
    "---\n",
    "\n",
    "### Learning Curve Analysis of Different Neural Network Models\n",
    "The plotted graphs depict the training and validation performance of five iterations/models used for predicting accident severity. Here’s a breakdown:\n",
    "\n",
    "- **Model**: Utilizes a deep neural network architecture with dense layers. It shows good performance in terms of loss reduction and accuracy improvement over epochs, indicating effective learning.\n",
    "\n",
    "- **Model2**: Similar to Model but with increased complexity and additional layers. While it improves accuracy slightly, it exhibits higher loss than Model, suggesting potential overfitting.\n",
    "\n",
    "- **Model3**: Revised version of Model2 with adjustments to layer configurations. It shows competitive performance in accuracy and loss, aligning closely with Model.\n",
    "\n",
    "- **Model4**: Introduces class weights to mitigate class imbalance, aiming to improve performance on underrepresented classes. The plot shows mixed results, suggesting varied impact on different metrics.\n",
    "\n",
    "- **Model RNN**: Implements a Recurrent Neural Network (RNN) with LSTM layers, tailored for sequential accident data. It shows promising performance with gradual loss reduction and accuracy improvement, indicating suitability for time-series prediction tasks.\n",
    "\n",
    "These learning curves provide insights into how each model variant learns from the data, highlighting strengths and potential areas for improvement in predicting accident severity.\n",
    "\n",
    "---\n",
    "\n",
    "### Model Complexity and Performance Trade-Off\n",
    "The trade-off between model complexity and performance is evident in our selection and comparison of various machine learning models for predicting accident severity. We analyzed models ranging from deep neural networks with dense layers to a specialized Recurrent Neural Network (RNN) with LSTM layers. Each model's performance metrics, including loss reduction and accuracy, informed our decision-making process to balance complexity with predictive effectiveness. This approach satisfies the criteria for selecting and evaluating appropriate machine learning algorithms effectively.\n"
   ]
  },
  {
   "cell_type": "markdown",
   "id": "415b0e32",
   "metadata": {},
   "source": [
    "## ILO 7.0: Deployment\n",
    "\n",
    "The student is able to deliver value to the stakeholders by delivering production-ready code that is designed to be implemented into practical real-world scenarios such as applications or products.\n",
    "\n",
    "Delivers value to the stakeholders by providing production-ready code that can be implemented into practical real-world scenarios through a proof of concept deployment:\n",
    "\n",
    "- **Poor**: Clear Individual contribution is documented. Python scripts are delivered.\n",
    "\n",
    "- **Insufficient**: Creates a virtual environment and utilizes it alongside a package manager, enabling efficient management of dependencies and packages required for a data science project. And meeting all criteria in poor.\n",
    "\n",
    "- **Sufficient**: Works towards delivering clean code according to industry standards, for example, by using logging, linting, doc strings, code formatting, refactoring etc. And meeting all criteria in insufficient.\n",
    "\n",
    "- **Good**: Unit tests are conducted to check the robustness of the delivered code with a test coverage of at least 30%. Industry-standard tools are used to document the code (e.g., sphinx). And meeting all criteria in sufficient.\n",
    "\n",
    "- **Excellent**: Industry ready applications are created and ready to be deployed. Streamlit or other such tools are used to create user friendly interface, which serves the business objective. And meeting all criteria in good."
   ]
  },
  {
   "cell_type": "markdown",
   "id": "e30933da",
   "metadata": {},
   "source": [
    "### Task 7.1 - Python Scripts\n",
    "\n",
    "Please add Individual Python scripts, and/or the link to your peers' Python scripts, if needed. Links should direct only to your own GitHub repository. This evidence corresponds to the **poor** criterion."
   ]
  },
  {
   "cell_type": "markdown",
   "id": "3a2d8336",
   "metadata": {},
   "source": [
    "- [app.py](https://github.com/BredaUniversityADSAI/2023-24d-fai1-adsai-teamwork-t12/blob/b442c30e59f988b17dfd8435107ce1215c6ac5f5/ILO_7/project_deployment/app.py)\n",
    "- [project_app.py](https://github.com/BredaUniversityADSAI/2023-24d-fai1-adsai-teamwork-t12/blob/b442c30e59f988b17dfd8435107ce1215c6ac5f5/ILO_7/project_deployment/project_app.py)\n",
    "- [project_functions.py](https://github.com/BredaUniversityADSAI/2023-24d-fai1-adsai-teamwork-t12/blob/b442c30e59f988b17dfd8435107ce1215c6ac5f5/ILO_7/project_deployment/project_functions.py)\n",
    "- [script_1.py](https://github.com/BredaUniversityADSAI/2023-24d-fai1-adsai-teamwork-t12/blob/b442c30e59f988b17dfd8435107ce1215c6ac5f5/ILO_7/project_deployment/script_1.py)"
   ]
  },
  {
   "cell_type": "markdown",
   "id": "cd5e5c23",
   "metadata": {},
   "source": [
    "### Task 7.2 - Virtual Environment\n",
    "\n",
    "Please provide the link to the requirements.txt file here for Virtual environment. Also add the screenshots of creating the virtual environment and running the code in the virtual environment. This evidence corresponds to the **insufficient** criterion."
   ]
  },
  {
   "cell_type": "markdown",
   "id": "0c15bc4c",
   "metadata": {},
   "source": [
    "- [requirements.txt](https://github.com/BredaUniversityADSAI/2023-24d-fai1-adsai-teamwork-t12/blob/main/ILO_7/Task_7_2_Virtual_Enviornment/requirements.txt)\n",
    "- [installing_packages.png](https://github.com/BredaUniversityADSAI/2023-24d-fai1-adsai-teamwork-t12/blob/b442c30e59f988b17dfd8435107ce1215c6ac5f5/ILO_7/Task_7_2_Virtual_Enviornment/Installing_packages.png)\n",
    "- [creating_env.png](https://github.com/BredaUniversityADSAI/2023-24d-fai1-adsai-teamwork-t12/blob/b442c30e59f988b17dfd8435107ce1215c6ac5f5/ILO_7/Task_7_2_Virtual_Enviornment/Creating_env.png)\n",
    "- [poetry_run.png](https://github.com/BredaUniversityADSAI/2023-24d-fai1-adsai-teamwork-t12/blob/b442c30e59f988b17dfd8435107ce1215c6ac5f5/ILO_7/Task_7_2_Virtual_Enviornment/Installing_packages.png)\n",
    "  "
   ]
  },
  {
   "cell_type": "markdown",
   "id": "fddc3408",
   "metadata": {},
   "source": [
    "### Task 7.3 - Cleaning your code\n",
    "\n",
    "Please provide an example of how you commneted, and how you structured your code [Linting, Logging, Docstrings etc]. This evidence corresponds to **sufficient** criterion."
   ]
  },
  {
   "cell_type": "markdown",
   "id": "ea540093",
   "metadata": {},
   "source": [
    "- [project_functions.py](https://github.com/BredaUniversityADSAI/2023-24d-fai1-adsai-teamwork-t12/blob/b442c30e59f988b17dfd8435107ce1215c6ac5f5/ILO_7/project_deployment/project_functions.py) (with examples of comments, docstrings, and logging)"
   ]
  },
  {
   "cell_type": "markdown",
   "id": "c9ea62fe",
   "metadata": {},
   "source": [
    "### Task 7.4 - Test Coverage\n",
    "\n",
    "Please provide sample unit test cases and evidence that you managed to meet 30% of the code coverage. This evidence corresponds to **good** criterion."
   ]
  },
  {
   "cell_type": "markdown",
   "id": "480f8816",
   "metadata": {},
   "source": [
    "- [unit_test.py](https://github.com/BredaUniversityADSAI/2023-24d-fai1-adsai-teamwork-t12/blob/b442c30e59f988b17dfd8435107ce1215c6ac5f5/ILO_7/project_deployment/unit_test.py) \n",
    "- [unit_test_coverage.png](https://github.com/BredaUniversityADSAI/2023-24d-fai1-adsai-teamwork-t12/blob/main/ILO_7/project_deployment/unit_test_coverage.png)\n",
    "- [documentation](https://github.com/BredaUniversityADSAI/2023-24d-fai1-adsai-teamwork-t12/blob/main/docs/_build/html/index.html)"
   ]
  },
  {
   "cell_type": "markdown",
   "id": "c9c5c4af",
   "metadata": {},
   "source": [
    "### Task 7.5 - Production Ready application\n",
    "\n",
    "Please provide evidence regarding how you intended to deliver this Python application to the end user / client. Examples include Streamlit, Flask, Django, FastAPI, etc. This evidence corresponds to **excellent** criterion."
   ]
  },
  {
   "cell_type": "markdown",
   "id": "efdbc620",
   "metadata": {},
   "source": [
    "- [app.py](https://github.com/BredaUniversityADSAI/2023-24d-fai1-adsai-teamwork-t12/blob/b442c30e59f988b17dfd8435107ce1215c6ac5f5/ILO_7/project_deployment/app.py)\n",
    "- [project_app.py](https://github.com/BredaUniversityADSAI/2023-24d-fai1-adsai-teamwork-t12/blob/b442c30e59f988b17dfd8435107ce1215c6ac5f5/ILO_7/project_deployment/project_app.py)\n",
    "- [deployed app](https://projdep-9nb25z2n2rkgafxargmqjx.streamlit.app/)"
   ]
  }
 ],
 "metadata": {
  "kernelspec": {
   "display_name": "Python 3 (ipykernel)",
   "language": "python",
   "name": "python3"
  },
  "language_info": {
   "codemirror_mode": {
    "name": "ipython",
    "version": 3
   },
   "file_extension": ".py",
   "mimetype": "text/x-python",
   "name": "python",
   "nbconvert_exporter": "python",
   "pygments_lexer": "ipython3",
   "version": "3.9.6"
  }
 },
 "nbformat": 4,
 "nbformat_minor": 5
}
